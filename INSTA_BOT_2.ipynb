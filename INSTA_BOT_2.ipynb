{
 "cells": [
  {
   "cell_type": "code",
   "execution_count": 5,
   "metadata": {},
   "outputs": [
    {
     "name": "stderr",
     "output_type": "stream",
     "text": [
      "[WDM] - ====== WebDriver manager ======\n",
      "[WDM] - Current google-chrome version is 89.0.4389\n",
      "[WDM] - Get LATEST driver version for 89.0.4389\n"
     ]
    },
    {
     "name": "stdout",
     "output_type": "stream",
     "text": [
      "\n",
      "\n"
     ]
    },
    {
     "name": "stderr",
     "output_type": "stream",
     "text": [
      "[WDM] - Driver [/Users/keshavkumar/.wdm/drivers/chromedriver/mac64/89.0.4389.23/chromedriver] found in cache\n"
     ]
    }
   ],
   "source": [
    "## Importig the required packages\n",
    "from selenium.webdriver.common.keys import Keys\n",
    "from selenium.common.exceptions import NoSuchElementException\n",
    "from selenium.common.exceptions import StaleElementReferenceException\n",
    "from selenium.common.exceptions import TimeoutException\n",
    "from selenium.webdriver.support.ui import WebDriverWait\n",
    "from selenium.webdriver.support.select import Select\n",
    "import time\n",
    "from selenium import webdriver\n",
    "from webdriver_manager.chrome import ChromeDriverManager\n",
    "from selenium.webdriver.support.ui import WebDriverWait\n",
    "from selenium.webdriver.support import expected_conditions as EC\n",
    "from selenium.webdriver.common.by import By\n",
    "driver=webdriver.Chrome(ChromeDriverManager().install())\n",
    "wait = WebDriverWait(driver,15)\n",
    "a=driver.get('https://www.instagram.com/')\n"
   ]
  },
  {
   "cell_type": "markdown",
   "metadata": {},
   "source": [
    "# Logging in to Instagram"
   ]
  },
  {
   "cell_type": "code",
   "execution_count": 6,
   "metadata": {},
   "outputs": [],
   "source": [
    "# 1. logging into instagram\n",
    "\n",
    "def login(usname,passwd):\n",
    "    \n",
    "    username = driver.find_element_by_name(\"username\")\n",
    "    password = driver.find_element_by_name(\"password\")\n",
    "    \n",
    "    username.send_keys(usname)\n",
    "    password.send_keys(passwd)\n",
    "    enter = driver.find_element_by_xpath(\"//button[contains(@class,'sqdOP')]/div\")\n",
    "    enter.click()\n",
    "    \n",
    "    #Not saving the info\n",
    "    \n",
    "    not_now = wait.until(EC.presence_of_element_located((By.XPATH,\"//div[contains(@class,'cmbtv')]/button\")))\n",
    "    not_now.click()\n",
    "    \n",
    "    \n",
    "    #Blocking notification popup\n",
    "    noti_block=wait.until(EC.presence_of_element_located((By.XPATH,\"//div[@class='mt3GC']/button[2]\")))\n",
    "    noti_block.click()\n",
    "    \n",
    "login(\"SAMPLE_USERNAME\",\"SAMPLE_PASSWORD\")"
   ]
  },
  {
   "cell_type": "markdown",
   "metadata": {},
   "source": [
    "# 1.1 Finding top 5 handles of food from first 10 on basis of followers"
   ]
  },
  {
   "cell_type": "code",
   "execution_count": 7,
   "metadata": {},
   "outputs": [
    {
     "name": "stdout",
     "output_type": "stream",
     "text": [
      "['yourfoodlab', 'dilsefoodie', 'foodtalkindia', 'patna_food_meter', 'food', 'kanpurfoodexplorers', 'delhifoodguide', 'food', 'street_food_chandigarh', 'delhifoodwalks']\n",
      "Top 5 food instagram handles with maximum number of followers:\n",
      "yourfoodlab 1594981\n",
      "dilsefoodie 742726\n",
      "foodtalkindia 304192\n",
      "delhifoodwalks 138742\n",
      "delhifoodguide 102848\n"
     ]
    }
   ],
   "source": [
    "import numpy as np\n",
    "def correct(number_of_followers):\n",
    "        \n",
    "    a = number_of_followers.split(',')\n",
    "    ans = '0'\n",
    "    for i in a:\n",
    "        ans += i\n",
    "    else:\n",
    "        return int(ans)\n",
    "\n",
    "def searching_Opening(profile_name):\n",
    "    search = wait.until(EC.presence_of_element_located((By.XPATH,\"//input[contains(@class,'XTCLo')]\")))\n",
    "    search.clear()\n",
    "    search.send_keys(profile_name)\n",
    "    profile = wait.until(EC.presence_of_all_elements_located((By.XPATH,\"//a[contains(@class,'-qQT3')]\")))\n",
    "    #print(profile)\n",
    "    for i in profile:\n",
    "        if i.get_attribute(\"href\").split('/')[-2] == profile_name:\n",
    "            i.click()\n",
    "            break\n",
    "    return\n",
    "#searching_openin('delhi_street_food1')\n",
    "N=0\n",
    "def insta_handles(name):\n",
    "    names = []\n",
    "    followers = []\n",
    "    search = driver.find_element_by_xpath(\"//input[contains(@class,'XTCLo')]\")\n",
    "    search.clear()\n",
    "    search.send_keys(name)\n",
    "    time.sleep(2)\n",
    "    food_handles = driver.find_elements_by_xpath(\"//a[contains(@class,'-qQT3')]\")\n",
    "    for i in range(10):\n",
    "        names.append(food_handles[i].get_attribute(\"href\").split(\"/\")[-2])\n",
    "    print(names)    \n",
    "    for i in names:\n",
    "        searching_Opening(i)\n",
    "        try:\n",
    "            number_of_followers = wait.until(EC.presence_of_all_elements_located((By.XPATH,\"//span[contains(@class,'g47SY ')]\")))[1]\n",
    "            n_o_f = correct(number_of_followers.get_attribute(\"title\"))\n",
    "            followers.append(n_o_f)\n",
    "            driver.back()\n",
    "        except:\n",
    "            followers.append(N)\n",
    "    names = np.array(names)\n",
    "    followers = np.array(followers)\n",
    "    index = np.argsort(followers)\n",
    "    names = names[index]\n",
    "    followers = followers[index]\n",
    "    print(\"Top 5 food instagram handles with maximum number of followers:\")\n",
    "    for i in range(-1,-6,-1):\n",
    "        print(names[i],followers[i])\n",
    "    return names[-1:-6:-1],followers[-1:-6:-1]\n",
    "names, followers = insta_handles(\"food\")"
   ]
  },
  {
   "cell_type": "markdown",
   "metadata": {},
   "source": [
    "# 1.2 Finding the number of posts these handles have done in previous 3 days"
   ]
  },
  {
   "cell_type": "code",
   "execution_count": 9,
   "metadata": {},
   "outputs": [
    {
     "name": "stdout",
     "output_type": "stream",
     "text": [
      "Number of posts in the last 3 days are: \n",
      "yourfoodlab 6\n",
      "dilsefoodie 4\n",
      "foodtalkindia 3\n",
      "delhifoodwalks 4\n",
      "delhifoodguide 0\n"
     ]
    }
   ],
   "source": [
    "def number_of_posts(names, followers):\n",
    "    \n",
    "    d = {}\n",
    "    \n",
    "    for i in names:\n",
    "        searching_Opening(i)\n",
    "        number_of_posts = 0 \n",
    "        post = wait.until(EC.presence_of_element_located((By.CLASS_NAME,\"_9AhH0\")))\n",
    "        post.click()\n",
    "        time.sleep(1)\n",
    "        time2 = driver.find_element_by_xpath(\"//time[contains(@class,'_1o9PC')]\")\n",
    "        date = time2.text.split()\n",
    "        while True:\n",
    "            if  date[1] == \"DAYS\" and int(date[0]) > 3 :\n",
    "                break\n",
    "            elif date[1] not in [\"MINUTES\",\"HOURS\",\"DAY\",\"DAYS\",\"HOUR\"]:\n",
    "                break\n",
    "            else:\n",
    "                number_of_posts += 1\n",
    "                next_button = driver.find_element_by_link_text(\"Next\")\n",
    "                next_button.click()\n",
    "                time2 = wait.until(EC.presence_of_element_located((By.XPATH,\"//time[contains(@class,'_1o9PC')]\")))\n",
    "                date = time2.text.split()\n",
    "                \n",
    "        \n",
    "        d[i] = number_of_posts\n",
    "        close = driver.find_element_by_xpath('//div[contains(@class , \"_2dDPU\")]/div[3]/button')\n",
    "        close.click()\n",
    "                \n",
    "    print(\"Number of posts in the last 3 days are: \") \n",
    "    for i in d:\n",
    "        print(i,d[i])\n",
    "    \n",
    "    return d.values() \n",
    "\n",
    "num = number_of_posts(names, followers)  \n",
    "number_of_posts = np.array(num)\n",
    "\n",
    "posts = np.array(list(num))\n",
    "posts = posts*10"
   ]
  },
  {
   "cell_type": "markdown",
   "metadata": {},
   "source": [
    "# 1.3 Depicting information using graph..."
   ]
  },
  {
   "cell_type": "code",
   "execution_count": 10,
   "metadata": {},
   "outputs": [
    {
     "data": {
      "image/png": "[encoded data removed]",
      "text/plain": [
       "<Figure size 432x288 with 1 Axes>"
      ]
     },
     "metadata": {
      "needs_background": "light"
     },
     "output_type": "display_data"
    }
   ],
   "source": [
    "import matplotlib.pyplot as plt\n",
    "def plot(names,followers,posts):\n",
    "    plt.scatter(names,followers,sizes = posts,color =\"purple\",alpha = 0.5 )\n",
    "    plt.ylabel(\"Number of followers\")\n",
    "    plt.xlabel(\"\\nNames of instagram handles\")\n",
    "    plt.title(\"Top 5 food instagram handles with highest number of followers\\n(size of bubble representing the number of posts \\nin last 3 days)\\n\")\n",
    "    plt.show()\n",
    "plot(names,followers,posts)"
   ]
  },
  {
   "cell_type": "markdown",
   "metadata": {},
   "source": [
    "# 2.1 Scraping the content of first 10 posts of top 5 handles..."
   ]
  },
  {
   "cell_type": "code",
   "execution_count": 11,
   "metadata": {},
   "outputs": [],
   "source": [
    "def scrape(names):\n",
    "    d = {}\n",
    "    for i in names:\n",
    "        d[i] = []\n",
    "    for i in names:\n",
    "        searching_Opening(i)\n",
    "        post = wait.until(EC.presence_of_element_located((By.CLASS_NAME,\"_9AhH0\")))\n",
    "        post.click()\n",
    "        for j in range(2):\n",
    "            t = wait.until(EC.presence_of_element_located((By.XPATH,\"//div[@class='C4VMK']/span\")))\n",
    "            d[i].append(t.text)\n",
    "            next_button = driver.find_element_by_link_text(\"Next\")\n",
    "            next_button.click()\n",
    "        \n",
    "        close = driver.find_element_by_xpath('//div[contains(@class , \"_2dDPU\")]/div[3]/button')\n",
    "        close.click() \n",
    "    return d\n",
    "scraped_content = scrape(names)"
   ]
  },
  {
   "cell_type": "code",
   "execution_count": 12,
   "metadata": {},
   "outputs": [
    {
     "data": {
      "text/plain": [
       "{'yourfoodlab': ['Chocolate Cake Shake by Chef @sanjyotkeer\\nBeat the heat with this delicious Chocolate Cake Shake! #YFLQuickies #reelitfeelit #reelsinstagram #reelsvideo #recipeoftheday #recipereels',\n",
       "  'What’s up guys! New video is up on the YouTube & Facebook channel! This burger recipe will change your veg burger experience. This is one of my favorites, I get asked a lot that how do we make junk healthier and I love to prep up recipes like these. One of the main elements of a burger is the patty and usually in a veg burger we usually turn towards potatoes, this recipe has a high protein rajma patty which not only is healthy but is super delicious. I have prepped up some delicious mango salsa with it along with a garlic dip and some charred onions. This burger will surely blow your mind once you try it! Cheers!\\n.\\n.\\n.\\n#recipe #burger #burgerlove #burgertime #burgerlover #vegburger #vegrecipesofindia #vegetarian #rajma #burgers #sanjyotkeer #yourfoodlab'],\n",
       " 'dilsefoodie': ['Halwa Parantha At Nizamuddin Dargah\\n\\nIf You Are On Diet Then Please Ignore This Place. Taste Was Good But Too Oily\\n#dilsefoodie #halwa #parantha',\n",
       "  'Mazedaaaar North Indian Food Ordered From @manjeet_kitchen , Rohini\\n\\nBest Was Bhatti Murg (Not Chicken Tikka)And Then Butter Chicken These Two Was Best And Must Try Items.\\n\\nChicken Tikka Masala Was Also Good If You Like Spicy Food You Cab Order This\\nCheck Page : @manjeet_kitchen\\nSwiggy Delivering 7km From Rohini\\nZomato Delivering 15km From Rohini\\n#dilsefoodie'],\n",
       " 'foodtalkindia': ['Saturday plan!?\\n\\nRainbow Sangria🌈\\n.\\nDrink the wine! Eat the fruit! 🍇🍷🍓\\n\\n@tipsybartender',\n",
       "  '#NewInTown \\n\\nWord of mouth and serendipitous discoveries aside secret bars seem a thing of the past, after all in the age of social media what becomes of the modern speakeasy? Is it hidden facades and prohibition era aesthetic, is it curious cocktail magic, forbidden flavours, textures and hints or is it the mystery of concealment? @lair.newdelhi is the newest in the capital, that sets out to unravel the mysterious affair of what the modern speakeasy can be. \\n\\nThe age-old drama of understated glamour intersects with the modern hedonism of taste and indulgence at Lair. The space is like a marriage between the nostalgia and decadence of the 1920s with the uber contemporary ideal of modish entertainment, Lair is a haven for the fun-loving in search for their next bout of sophisticated tippling.\\n\\nSatiate all your Asian cravings as you sip on some delicious cocktails at Lair! \\n\\nAddress: 15, market, Basant Lok, Vasant Vihar, New Delhi'],\n",
       " 'delhifoodwalks': ['Bikaner Street Food Tour Part 1 episode is now up on our YouTube channel.\\n\\nClick on the link in bio to enjoy the amusing details of some popular street food treats like Kadhi Puri, Rose Flavoured Golgappe, Kesariya Chatta, Raj Kachori etc. we had tried at some go to snacking places.\\n\\nAlso watch it out for some fun interactions with our hosts and vendors.\\n\\n#DFWinBikaner #DFWinRajasthan #BikanerFoodTour #BikanerFood #Bikanericuisine #FoodTour #FoodWalks #TravelforFood #Bikanerstreetfood #walkwithanubhav',\n",
       "  \"Hi folks,\\n\\nToday's weekly food exploration episode on our YouTube channel will introduce you to some popular street food places from the city of Bikaner in Rajasthan.\\n\\nVideo will drop at 9 PM today so do join in to enjoy this amusing gastronomic journey undertaken by @anubhav.sapra along with our gracious host Gopal Ji (@mimjhar ), founder @rajasthankabiryatra and few of his friends.\\n\\n#DFWinBikaner #DFWinRajasthan #BikanerFoodTour #BikanerFood #Bikanericuisine #FoodTour #FoodWalks #TravelforFood #Bikanerstreetfood #walkwithanubhav\"],\n",
       " 'delhifoodguide': ['Tried these gravy momos @ momos express Saket ... taste was ok ok !! Aap ne sabset tasty momos kha khaye hai?',\n",
       "  'Subha subha mast Aloo Ki sabji with kachori ❤️❤️\\n.\\nKis Kis ko Kachori sabji pasand hai? .\\n.\\n.\\n#delhifoodguide #kachorisabzi']}"
      ]
     },
     "execution_count": 12,
     "metadata": {},
     "output_type": "execute_result"
    }
   ],
   "source": [
    "scraped_content"
   ]
  },
  {
   "cell_type": "markdown",
   "metadata": {},
   "source": [
    "# 2.2 Calculating frequency of each word on scraped content...."
   ]
  },
  {
   "cell_type": "code",
   "execution_count": 13,
   "metadata": {},
   "outputs": [
    {
     "data": {
      "text/plain": [
       "{'Chocolate': 2,\n",
       " 'Cake': 2,\n",
       " 'Shake': 1,\n",
       " 'by': 2,\n",
       " 'Chef': 1,\n",
       " '@sanjyotkeer': 1,\n",
       " 'Beat': 1,\n",
       " 'the': 22,\n",
       " 'heat': 1,\n",
       " 'with': 8,\n",
       " 'this': 3,\n",
       " 'delicious': 3,\n",
       " 'Shake!': 1,\n",
       " '#YFLQuickies': 1,\n",
       " '#reelitfeelit': 1,\n",
       " '#reelsinstagram': 1,\n",
       " '#reelsvideo': 1,\n",
       " '#recipeoftheday': 1,\n",
       " '#recipereels': 1,\n",
       " 'What’s': 1,\n",
       " 'up': 5,\n",
       " 'guys!': 1,\n",
       " 'New': 2,\n",
       " 'video': 1,\n",
       " 'is': 11,\n",
       " 'on': 5,\n",
       " 'YouTube': 3,\n",
       " '&': 1,\n",
       " 'Facebook': 1,\n",
       " 'channel!': 1,\n",
       " 'This': 5,\n",
       " 'burger': 5,\n",
       " 'recipe': 2,\n",
       " 'will': 4,\n",
       " 'change': 1,\n",
       " 'your': 3,\n",
       " 'veg': 2,\n",
       " 'experience.': 1,\n",
       " 'one': 1,\n",
       " 'of': 17,\n",
       " 'my': 1,\n",
       " 'favorites,': 1,\n",
       " 'I': 3,\n",
       " 'get': 1,\n",
       " 'asked': 1,\n",
       " 'a': 8,\n",
       " 'lot': 1,\n",
       " 'that': 2,\n",
       " 'how': 1,\n",
       " 'do': 2,\n",
       " 'we': 3,\n",
       " 'make': 1,\n",
       " 'junk': 1,\n",
       " 'healthier': 1,\n",
       " 'and': 10,\n",
       " 'love': 1,\n",
       " 'to': 6,\n",
       " 'prep': 1,\n",
       " 'recipes': 1,\n",
       " 'like': 3,\n",
       " 'these.': 1,\n",
       " 'One': 1,\n",
       " 'main': 1,\n",
       " 'elements': 1,\n",
       " 'patty': 2,\n",
       " 'usually': 2,\n",
       " 'in': 7,\n",
       " 'turn': 1,\n",
       " 'towards': 1,\n",
       " 'potatoes,': 1,\n",
       " 'has': 1,\n",
       " 'high': 1,\n",
       " 'protein': 1,\n",
       " 'rajma': 1,\n",
       " 'which': 1,\n",
       " 'not': 1,\n",
       " 'only': 1,\n",
       " 'healthy': 1,\n",
       " 'but': 1,\n",
       " 'super': 1,\n",
       " 'delicious.': 1,\n",
       " 'have': 1,\n",
       " 'prepped': 1,\n",
       " 'some': 7,\n",
       " 'mango': 1,\n",
       " 'salsa': 1,\n",
       " 'it': 5,\n",
       " 'along': 2,\n",
       " 'garlic': 1,\n",
       " 'dip': 1,\n",
       " 'charred': 1,\n",
       " 'onions.': 1,\n",
       " 'surely': 1,\n",
       " 'blow': 1,\n",
       " 'mind': 1,\n",
       " 'once': 1,\n",
       " 'you': 3,\n",
       " 'try': 1,\n",
       " 'it!': 1,\n",
       " 'Cheers!': 1,\n",
       " '.': 8,\n",
       " '#recipe': 1,\n",
       " '#burger': 1,\n",
       " '#burgerlove': 1,\n",
       " '#burgertime': 1,\n",
       " '#burgerlover': 1,\n",
       " '#vegburger': 1,\n",
       " '#vegrecipesofindia': 1,\n",
       " '#vegetarian': 1,\n",
       " '#rajma': 1,\n",
       " '#burgers': 1,\n",
       " '#sanjyotkeer': 1,\n",
       " '#yourfoodlab': 1,\n",
       " 'Halwa': 1,\n",
       " 'Parantha': 1,\n",
       " 'At': 1,\n",
       " 'Nizamuddin': 1,\n",
       " 'Dargah': 1,\n",
       " 'If': 2,\n",
       " 'You': 3,\n",
       " 'Are': 1,\n",
       " 'On': 1,\n",
       " 'Diet': 1,\n",
       " 'Then': 2,\n",
       " 'Please': 1,\n",
       " 'Ignore': 1,\n",
       " 'Place.': 1,\n",
       " 'Taste': 1,\n",
       " 'Was': 4,\n",
       " 'Good': 2,\n",
       " 'But': 1,\n",
       " 'Too': 1,\n",
       " 'Oily': 1,\n",
       " '#dilsefoodie': 2,\n",
       " '#halwa': 1,\n",
       " '#parantha': 1,\n",
       " 'Mazedaaaar': 1,\n",
       " 'North': 1,\n",
       " 'Indian': 1,\n",
       " 'Food': 3,\n",
       " 'Ordered': 1,\n",
       " 'From': 3,\n",
       " '@manjeet_kitchen': 2,\n",
       " ',': 1,\n",
       " 'Rohini': 3,\n",
       " 'Best': 2,\n",
       " 'Bhatti': 1,\n",
       " 'Murg': 1,\n",
       " '(Not': 1,\n",
       " 'Chicken': 3,\n",
       " 'Tikka)And': 1,\n",
       " 'Butter': 1,\n",
       " 'These': 1,\n",
       " 'Two': 1,\n",
       " 'And': 1,\n",
       " 'Must': 1,\n",
       " 'Try': 1,\n",
       " 'Items.': 1,\n",
       " 'Tikka': 1,\n",
       " 'Masala': 1,\n",
       " 'Also': 2,\n",
       " 'Like': 1,\n",
       " 'Spicy': 1,\n",
       " 'Cab': 1,\n",
       " 'Order': 1,\n",
       " 'Check': 1,\n",
       " 'Page': 1,\n",
       " ':': 1,\n",
       " 'Swiggy': 1,\n",
       " 'Delivering': 2,\n",
       " '7km': 1,\n",
       " 'Zomato': 1,\n",
       " '15km': 1,\n",
       " 'Saturday': 1,\n",
       " 'plan!?': 1,\n",
       " 'Rainbow': 1,\n",
       " 'Sangria🌈': 1,\n",
       " 'Drink': 1,\n",
       " 'wine!': 1,\n",
       " 'Eat': 1,\n",
       " 'fruit!': 1,\n",
       " '🍇🍷🍓': 1,\n",
       " '@tipsybartender': 1,\n",
       " '#NewInTown': 1,\n",
       " 'Word': 1,\n",
       " 'mouth': 1,\n",
       " 'serendipitous': 1,\n",
       " 'discoveries': 1,\n",
       " 'aside': 1,\n",
       " 'secret': 1,\n",
       " 'bars': 1,\n",
       " 'seem': 1,\n",
       " 'thing': 1,\n",
       " 'past,': 1,\n",
       " 'after': 1,\n",
       " 'all': 2,\n",
       " 'age': 1,\n",
       " 'social': 1,\n",
       " 'media': 1,\n",
       " 'what': 2,\n",
       " 'becomes': 1,\n",
       " 'modern': 3,\n",
       " 'speakeasy?': 1,\n",
       " 'Is': 1,\n",
       " 'hidden': 1,\n",
       " 'facades': 1,\n",
       " 'prohibition': 1,\n",
       " 'era': 1,\n",
       " 'aesthetic,': 1,\n",
       " 'curious': 1,\n",
       " 'cocktail': 1,\n",
       " 'magic,': 1,\n",
       " 'forbidden': 1,\n",
       " 'flavours,': 1,\n",
       " 'textures': 1,\n",
       " 'hints': 1,\n",
       " 'or': 1,\n",
       " 'mystery': 1,\n",
       " 'concealment?': 1,\n",
       " '@lair.newdelhi': 1,\n",
       " 'newest': 1,\n",
       " 'capital,': 1,\n",
       " 'sets': 1,\n",
       " 'out': 2,\n",
       " 'unravel': 1,\n",
       " 'mysterious': 1,\n",
       " 'affair': 1,\n",
       " 'speakeasy': 1,\n",
       " 'can': 1,\n",
       " 'be.': 1,\n",
       " 'The': 2,\n",
       " 'age-old': 1,\n",
       " 'drama': 1,\n",
       " 'understated': 1,\n",
       " 'glamour': 1,\n",
       " 'intersects': 1,\n",
       " 'hedonism': 1,\n",
       " 'taste': 2,\n",
       " 'indulgence': 1,\n",
       " 'at': 4,\n",
       " 'Lair.': 1,\n",
       " 'space': 1,\n",
       " 'marriage': 1,\n",
       " 'between': 1,\n",
       " 'nostalgia': 1,\n",
       " 'decadence': 1,\n",
       " '1920s': 1,\n",
       " 'uber': 1,\n",
       " 'contemporary': 1,\n",
       " 'ideal': 1,\n",
       " 'modish': 1,\n",
       " 'entertainment,': 1,\n",
       " 'Lair': 1,\n",
       " 'haven': 1,\n",
       " 'for': 3,\n",
       " 'fun-loving': 1,\n",
       " 'search': 1,\n",
       " 'their': 1,\n",
       " 'next': 1,\n",
       " 'bout': 1,\n",
       " 'sophisticated': 1,\n",
       " 'tippling.': 1,\n",
       " 'Satiate': 1,\n",
       " 'Asian': 1,\n",
       " 'cravings': 1,\n",
       " 'as': 1,\n",
       " 'sip': 1,\n",
       " 'cocktails': 1,\n",
       " 'Lair!': 1,\n",
       " 'Address:': 1,\n",
       " '15,': 1,\n",
       " 'market,': 1,\n",
       " 'Basant': 1,\n",
       " 'Lok,': 1,\n",
       " 'Vasant': 1,\n",
       " 'Vihar,': 1,\n",
       " 'Delhi': 1,\n",
       " 'Bikaner': 2,\n",
       " 'Street': 1,\n",
       " 'Tour': 1,\n",
       " 'Part': 1,\n",
       " '1': 1,\n",
       " 'episode': 2,\n",
       " 'now': 1,\n",
       " 'our': 4,\n",
       " 'channel.': 1,\n",
       " 'Click': 1,\n",
       " 'link': 1,\n",
       " 'bio': 1,\n",
       " 'enjoy': 2,\n",
       " 'amusing': 2,\n",
       " 'details': 1,\n",
       " 'popular': 2,\n",
       " 'street': 2,\n",
       " 'food': 3,\n",
       " 'treats': 1,\n",
       " 'Kadhi': 1,\n",
       " 'Puri,': 1,\n",
       " 'Rose': 1,\n",
       " 'Flavoured': 1,\n",
       " 'Golgappe,': 1,\n",
       " 'Kesariya': 1,\n",
       " 'Chatta,': 1,\n",
       " 'Raj': 1,\n",
       " 'Kachori': 2,\n",
       " 'etc.': 1,\n",
       " 'had': 1,\n",
       " 'tried': 1,\n",
       " 'go': 1,\n",
       " 'snacking': 1,\n",
       " 'places.': 1,\n",
       " 'watch': 1,\n",
       " 'fun': 1,\n",
       " 'interactions': 1,\n",
       " 'hosts': 1,\n",
       " 'vendors.': 1,\n",
       " '#DFWinBikaner': 2,\n",
       " '#DFWinRajasthan': 2,\n",
       " '#BikanerFoodTour': 2,\n",
       " '#BikanerFood': 2,\n",
       " '#Bikanericuisine': 2,\n",
       " '#FoodTour': 2,\n",
       " '#FoodWalks': 2,\n",
       " '#TravelforFood': 2,\n",
       " '#Bikanerstreetfood': 2,\n",
       " '#walkwithanubhav': 2,\n",
       " 'Hi': 1,\n",
       " 'folks,': 1,\n",
       " \"Today's\": 1,\n",
       " 'weekly': 1,\n",
       " 'exploration': 1,\n",
       " 'channel': 1,\n",
       " 'introduce': 1,\n",
       " 'places': 1,\n",
       " 'from': 1,\n",
       " 'city': 1,\n",
       " 'Rajasthan.': 1,\n",
       " 'Video': 1,\n",
       " 'drop': 1,\n",
       " '9': 1,\n",
       " 'PM': 1,\n",
       " 'today': 1,\n",
       " 'so': 1,\n",
       " 'join': 1,\n",
       " 'gastronomic': 1,\n",
       " 'journey': 1,\n",
       " 'undertaken': 1,\n",
       " '@anubhav.sapra': 1,\n",
       " 'gracious': 1,\n",
       " 'host': 1,\n",
       " 'Gopal': 1,\n",
       " 'Ji': 1,\n",
       " '(@mimjhar': 1,\n",
       " '),': 1,\n",
       " 'founder': 1,\n",
       " '@rajasthankabiryatra': 1,\n",
       " 'few': 1,\n",
       " 'his': 1,\n",
       " 'friends.': 1,\n",
       " 'Tried': 1,\n",
       " 'these': 1,\n",
       " 'gravy': 1,\n",
       " 'momos': 3,\n",
       " '@': 1,\n",
       " 'express': 1,\n",
       " 'Saket': 1,\n",
       " '...': 1,\n",
       " 'was': 1,\n",
       " 'ok': 2,\n",
       " '!!': 1,\n",
       " 'Aap': 1,\n",
       " 'ne': 1,\n",
       " 'sabset': 1,\n",
       " 'tasty': 1,\n",
       " 'kha': 1,\n",
       " 'khaye': 1,\n",
       " 'hai?': 2,\n",
       " 'Subha': 1,\n",
       " 'subha': 1,\n",
       " 'mast': 1,\n",
       " 'Aloo': 1,\n",
       " 'Ki': 1,\n",
       " 'sabji': 2,\n",
       " 'kachori': 1,\n",
       " '❤️❤️': 1,\n",
       " 'Kis': 2,\n",
       " 'ko': 1,\n",
       " 'pasand': 1,\n",
       " '#delhifoodguide': 1,\n",
       " '#kachorisabzi': 1}"
      ]
     },
     "execution_count": 13,
     "metadata": {},
     "output_type": "execute_result"
    }
   ],
   "source": [
    "d = {}\n",
    "for i in scraped_content:\n",
    "    for j in scraped_content[i]:\n",
    "        words = j.split()\n",
    "        for k in words:\n",
    "            d[k] = d.get(k,0) + 1\n",
    "d"
   ]
  },
  {
   "cell_type": "markdown",
   "metadata": {},
   "source": [
    "# 2.3 Saving data of words and frequencies in csv"
   ]
  },
  {
   "cell_type": "code",
   "execution_count": 16,
   "metadata": {},
   "outputs": [],
   "source": [
    "import pandas as pd\n",
    "words = np.array(list(d.keys()))\n",
    "frequency = np.array(list(d.values()))\n",
    "index = np.argsort(frequency)\n",
    "words = words[index]\n",
    "frequency = frequency[index]\n",
    "df = pd.DataFrame(words)\n",
    "df[1] = frequency\n",
    "df.columns = [\"words\",\"frequency\"]\n",
    "df.to_csv(\"DEMO_FILE_NAME_location\")"
   ]
  },
  {
   "cell_type": "markdown",
   "metadata": {},
   "source": [
    "# 2.4 Finding most popular hashtags...."
   ]
  },
  {
   "cell_type": "code",
   "execution_count": 17,
   "metadata": {},
   "outputs": [
    {
     "name": "stdout",
     "output_type": "stream",
     "text": [
      "Top occuring hashtags and their frequency: \n",
      "#DFWinBikaner 2\n",
      "#walkwithanubhav 2\n",
      "#Bikanerstreetfood 2\n",
      "#TravelforFood 2\n",
      "#FoodWalks 2\n"
     ]
    }
   ],
   "source": [
    "hashtags = {}\n",
    "for i in d:\n",
    "    if i[0] == \"#\":\n",
    "        hashtags[i] = d[i]\n",
    "h = np.array(list(hashtags.keys()))\n",
    "f = np.array(list(hashtags.values()))\n",
    "i = np.argsort(f)\n",
    "h = h[i]\n",
    "f = f[i]\n",
    "print(\"Top occuring hashtags and their frequency: \")\n",
    "for i in range(-1,-6,-1):\n",
    "    print(h[i],f[i])"
   ]
  },
  {
   "cell_type": "markdown",
   "metadata": {},
   "source": [
    "# 2.5 Plotting pie chart of top 5 hashtags"
   ]
  },
  {
   "cell_type": "code",
   "execution_count": 18,
   "metadata": {},
   "outputs": [
    {
     "data": {
      "image/png": "[encoded data removed]",
      "text/plain": [
       "<Figure size 432x288 with 1 Axes>"
      ]
     },
     "metadata": {},
     "output_type": "display_data"
    }
   ],
   "source": [
    "plt.title(\"Top 5 most used food hashtags\")\n",
    "plt.pie(f[-1:-6:-1],labels = h[-1:-6:-1],autopct=\"%.2f\",explode = [0.15,0.15,0.15,0.15,0.15])\n",
    "plt.show()"
   ]
  },
  {
   "cell_type": "markdown",
   "metadata": {},
   "source": [
    "# 3.1 Finding likes of top 10 posts of 5 handles obtained earlier...This sometimes not run in one go so please run it again......"
   ]
  },
  {
   "cell_type": "code",
   "execution_count": 19,
   "metadata": {},
   "outputs": [],
   "source": [
    "def go_to_handle(username,l):\n",
    "    search_bar= WebDriverWait(driver, 5).until(EC.presence_of_element_located((By.XPATH,'//div[contains(@class,\"MWDvN\")]/div[2]/input')))   \n",
    "    search_bar.send_keys(username)\n",
    "    time.sleep(2)\n",
    "    driver.find_element_by_xpath('//div[@class=\"_01UL2\"]/div/div[1]').click()\n",
    "    posts= WebDriverWait(driver, 10).until(EC.presence_of_all_elements_located((By.XPATH, '//div[contains(@class,\"v1Nh3 kIKUG  _bz0w\")]')))\n",
    "    for i in posts[:10]:\n",
    "        try:\n",
    "            i.click()\n",
    "            n= WebDriverWait(driver, 5).until(EC.presence_of_element_located((By.XPATH, '//div[@class=\"Nm9Fw\"]/a/span')))\n",
    "            likes=n.text\n",
    "            likes=likes.replace(',','')\n",
    "            l.append(int(likes))\n",
    "            close =  WebDriverWait(driver, 5).until(EC.presence_of_element_located((By.XPATH, '//div[contains(@class , \"_2dDPU\")]/div[3]/button')))\n",
    "            close.click()\n",
    "        except:\n",
    "            b=WebDriverWait(driver, 5).until(EC.presence_of_element_located((By.XPATH, '//div[contains(@class ,\"HbPOm\")]/span')))\n",
    "            b.click()                                                                 \n",
    "            n= WebDriverWait(driver, 5).until(EC.presence_of_element_located((By.XPATH, '//div[@class=\"vJRqr\"]/span')))\n",
    "            likes=n.text\n",
    "            likes=likes.replace(',','')\n",
    "            l.append(int(likes))\n",
    "            driver.find_element_by_class_name('QhbhU').click()\n",
    "            close =  WebDriverWait(driver, 5).until(EC.presence_of_element_located((By.XPATH, '//div[contains(@class , \"_2dDPU\")]/div[3]/button')))\n",
    "            close.click()"
   ]
  },
  {
   "cell_type": "code",
   "execution_count": 20,
   "metadata": {},
   "outputs": [
    {
     "name": "stdout",
     "output_type": "stream",
     "text": [
      "yourfoodlab : [50476, 30554, 16998, 80498, 26113, 23738, 28414, 31735, 49543, 37507]\n",
      "dilsefoodie : [15995, 15507, 12894, 19612, 8797, 8569, 8986, 13867, 7517, 17283]\n",
      "foodtalkindia : [2953, 393, 522, 704, 571, 230, 619, 337, 497, 196]\n",
      "delhifoodwalks : [351, 827, 1835, 219, 475, 920, 897, 611, 1479, 1746]\n",
      "delhifoodguide : [1295, 905, 477, 906, 588, 405, 1060, 711, 1215, 910]\n"
     ]
    }
   ],
   "source": [
    "total_likes=[]\n",
    "import time\n",
    "for i in names:\n",
    "    l=[]\n",
    "    go_to_handle(i,l)\n",
    "    print(i,\":\",l)\n",
    "    _sum=sum(l)\n",
    "    total_likes.append(_sum)"
   ]
  },
  {
   "cell_type": "markdown",
   "metadata": {},
   "source": [
    "# 3.2 Calculating avg likes for each handle..."
   ]
  },
  {
   "cell_type": "code",
   "execution_count": 22,
   "metadata": {},
   "outputs": [],
   "source": [
    "avg_likes=[]\n",
    "for i in total_likes:\n",
    "    avg_likes.append(i/10)"
   ]
  },
  {
   "cell_type": "code",
   "execution_count": 23,
   "metadata": {},
   "outputs": [
    {
     "name": "stdout",
     "output_type": "stream",
     "text": [
      "yourfoodlab : 37557.6\n",
      "dilsefoodie : 12902.7\n",
      "foodtalkindia : 702.2\n",
      "delhifoodwalks : 936.0\n",
      "delhifoodguide : 847.2\n"
     ]
    }
   ],
   "source": [
    "for i in range(5):\n",
    "    print(names[i],\":\",avg_likes[i])"
   ]
  },
  {
   "cell_type": "markdown",
   "metadata": {},
   "source": [
    "# 3.3 Dividing avg likes by number of followers of handle...."
   ]
  },
  {
   "cell_type": "code",
   "execution_count": 24,
   "metadata": {},
   "outputs": [
    {
     "name": "stdout",
     "output_type": "stream",
     "text": [
      "yourfoodlab : 0.023547365141026757\n",
      "dilsefoodie : 0.01737208607211812\n",
      "foodtalkindia : 0.002308410477593099\n",
      "delhifoodwalks : 0.0067463349238154275\n",
      "delhifoodguide : 0.008237398879900435\n"
     ]
    }
   ],
   "source": [
    "ratio=[]\n",
    "for i in range(5):\n",
    "    ratio.append((avg_likes[i])/int(followers[i]))\n",
    "    print(names[i],\":\",ratio[i])"
   ]
  },
  {
   "cell_type": "markdown",
   "metadata": {},
   "source": [
    "# 3.4 Depicting information using bar graph......"
   ]
  },
  {
   "cell_type": "code",
   "execution_count": 25,
   "metadata": {},
   "outputs": [
    {
     "data": {
      "image/png": "[encoded data removed]",
      "text/plain": [
       "<Figure size 504x360 with 1 Axes>"
      ]
     },
     "metadata": {
      "needs_background": "light"
     },
     "output_type": "display_data"
    }
   ],
   "source": [
    "import matplotlib.pyplot as plt\n",
    "\n",
    "plt.figure( figsize=(7, 5))\n",
    "plt.bar(names,ratio)\n",
    "plt.grid()\n",
    "plt.title(\"Follower/Like ratio for top food handles\")\n",
    "plt.xlabel(\"names\")\n",
    "plt.ylabel(\"followers/Avg_likes\")\n",
    "plt.xticks(rotation=15)\n",
    "plt.show()"
   ]
  }
 ],
 "metadata": {
  "kernelspec": {
   "display_name": "Python 3",
   "language": "python",
   "name": "python3"
  },
  "language_info": {
   "codemirror_mode": {
    "name": "ipython",
    "version": 3
   },
   "file_extension": ".py",
   "mimetype": "text/x-python",
   "name": "python",
   "nbconvert_exporter": "python",
   "pygments_lexer": "ipython3",
   "version": "3.8.5"
  }
 },
 "nbformat": 4,
 "nbformat_minor": 4
}
